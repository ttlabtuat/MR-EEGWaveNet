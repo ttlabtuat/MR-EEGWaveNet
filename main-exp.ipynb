{
 "cells": [
  {
   "cell_type": "code",
   "execution_count": 1,
   "id": "ba17edb9-9d6d-42df-a0cb-659aebb9c8e9",
   "metadata": {},
   "outputs": [],
   "source": [
    "# Standard Library\n",
    "import os\n",
    "import glob\n",
    "import copy\n",
    "import random\n",
    "import argparse\n",
    "\n",
    "# Third-Party Libraries\n",
    "import numpy as np\n",
    "import pandas as pd\n",
    "from tqdm import tqdm\n",
    "\n",
    "# PyTorch\n",
    "import torch\n",
    "from torch.utils.data import Dataset, DataLoader, Subset\n",
    "\n",
    "# Local Modules\n",
    "import architecture\n",
    "import trainer\n",
    "from utils import *"
   ]
  },
  {
   "cell_type": "code",
   "execution_count": 2,
   "id": "6387d0ef-80ed-44dc-94bc-7cafd7aa826e",
   "metadata": {},
   "outputs": [],
   "source": [
    "# Data information\n",
    "num_channels = 19   # number of channels\n",
    "num_classes  = 2    # number of classes\n",
    "samp_freq    = 500  # Sampling frequency\n",
    "\n",
    "# Architecture \n",
    "MP           = [10.0, 2.0]     # Multi-resolution list in seconds\n",
    "feat_dim     = 32              # Feature dimension\n",
    "\n",
    "# Training parameters\n",
    "batch_size   = 32              # Number of images in each mini-batch\n",
    "lr_rate      = 1e-03           # Learning-rate\n",
    "patience     = 30              # patience \n",
    "tr_val_ratio = 0.7             # Train and Validation ratio \n",
    "class_ratio  = 2.0             # seizure nonseizure class ratio\n",
    "num_epochs   = 10              # Number of sweeps over the dataset to train\n",
    "\n",
    "\n",
    "num_timepoints = int(MP[0]*samp_freq)\n",
    "\n",
    "# Train data ----------------------\n",
    "num_train_sz_samples = 100\n",
    "num_train_ns_samples = 1000\n",
    "train_sz   = np.random.randn(num_train_sz_samples, num_channels, num_timepoints).astype(np.float32) # Random EEG-like data \n",
    "train_ns   = np.random.randn(num_train_ns_samples, num_channels, num_timepoints).astype(np.float32) # Random EEG-like data\n",
    "\n",
    "\n",
    "# Test data ----------------------\n",
    "num_test_samples = 30\n",
    "test_data  = np.random.randn(num_test_samples, num_channels, num_timepoints).astype(np.float32) # Random EEG-like data\n",
    "test_label = np.random.randint(0, 2, size=(num_test_samples,)).astype(np.int64) # Random integer labels (e.g., 0 or 1 for binary classification)"
   ]
  },
  {
   "cell_type": "code",
   "execution_count": 3,
   "id": "54b8eeeb-9601-457c-886e-4679d821f342",
   "metadata": {},
   "outputs": [
    {
     "name": "stdout",
     "output_type": "stream",
     "text": [
      "total_feat_len: 192\n"
     ]
    }
   ],
   "source": [
    "# Definition of Model\n",
    "total_feat_len = int(np.sum([feat_dim * (MP[0] // s) for s in MP]))\n",
    "print(f\"total_feat_len: {total_feat_len}\")\n",
    "\n",
    "Model_mr = architecture.Model(  n_chans=num_channels, \n",
    "                                n_classes=num_classes, \n",
    "                                feature_dim=feat_dim, \n",
    "                                Fs=samp_freq, \n",
    "                                SEC=MP,\n",
    "                                tot_feat_len=total_feat_len).float()"
   ]
  },
  {
   "cell_type": "code",
   "execution_count": 4,
   "id": "a6c84754-95f6-4c29-93c7-f7395f7383bc",
   "metadata": {},
   "outputs": [
    {
     "name": "stdout",
     "output_type": "stream",
     "text": [
      "Class weights: [0.75 1.5 ]\n"
     ]
    },
    {
     "name": "stderr",
     "output_type": "stream",
     "text": [
      "Train Epoch 1/10: 100%|█████████████████████████████████████████████████████████████████████████████████████████████████████████████████████████████████████| 7/7 [00:01<00:00,  3.99it/s]\n",
      "Valid Epoch 1/10: 100%|█████████████████████████████████████████████████████████████████████████████████████████████████████████████████████████████████████| 3/3 [00:00<00:00,  8.33it/s]\n"
     ]
    },
    {
     "name": "stdout",
     "output_type": "stream",
     "text": [
      "Epoch 001 | Train Loss: 7064.2871 | Val Loss: 6962.9952\n"
     ]
    },
    {
     "name": "stderr",
     "output_type": "stream",
     "text": [
      "Train Epoch 2/10: 100%|█████████████████████████████████████████████████████████████████████████████████████████████████████████████████████████████████████| 7/7 [00:01<00:00,  6.69it/s]\n",
      "Valid Epoch 2/10: 100%|█████████████████████████████████████████████████████████████████████████████████████████████████████████████████████████████████████| 3/3 [00:00<00:00,  8.23it/s]\n"
     ]
    },
    {
     "name": "stdout",
     "output_type": "stream",
     "text": [
      "Epoch 002 | Train Loss: 6961.1008 | Val Loss: 6929.1919\n"
     ]
    },
    {
     "name": "stderr",
     "output_type": "stream",
     "text": [
      "Train Epoch 3/10: 100%|█████████████████████████████████████████████████████████████████████████████████████████████████████████████████████████████████████| 7/7 [00:01<00:00,  6.64it/s]\n",
      "Valid Epoch 3/10: 100%|█████████████████████████████████████████████████████████████████████████████████████████████████████████████████████████████████████| 3/3 [00:00<00:00,  8.45it/s]\n"
     ]
    },
    {
     "name": "stdout",
     "output_type": "stream",
     "text": [
      "Epoch 003 | Train Loss: 6938.5732 | Val Loss: 6926.9810\n"
     ]
    },
    {
     "name": "stderr",
     "output_type": "stream",
     "text": [
      "Train Epoch 4/10: 100%|█████████████████████████████████████████████████████████████████████████████████████████████████████████████████████████████████████| 7/7 [00:01<00:00,  6.74it/s]\n",
      "Valid Epoch 4/10: 100%|█████████████████████████████████████████████████████████████████████████████████████████████████████████████████████████████████████| 3/3 [00:00<00:00,  8.57it/s]\n"
     ]
    },
    {
     "name": "stdout",
     "output_type": "stream",
     "text": [
      "Epoch 004 | Train Loss: 6938.4338 | Val Loss: 6919.6849\n"
     ]
    },
    {
     "name": "stderr",
     "output_type": "stream",
     "text": [
      "Train Epoch 5/10: 100%|█████████████████████████████████████████████████████████████████████████████████████████████████████████████████████████████████████| 7/7 [00:01<00:00,  6.64it/s]\n",
      "Valid Epoch 5/10: 100%|█████████████████████████████████████████████████████████████████████████████████████████████████████████████████████████████████████| 3/3 [00:00<00:00,  8.96it/s]\n"
     ]
    },
    {
     "name": "stdout",
     "output_type": "stream",
     "text": [
      "Epoch 005 | Train Loss: 6967.1805 | Val Loss: 6927.5858\n"
     ]
    },
    {
     "name": "stderr",
     "output_type": "stream",
     "text": [
      "Train Epoch 6/10: 100%|█████████████████████████████████████████████████████████████████████████████████████████████████████████████████████████████████████| 7/7 [00:01<00:00,  6.63it/s]\n",
      "Valid Epoch 6/10: 100%|█████████████████████████████████████████████████████████████████████████████████████████████████████████████████████████████████████| 3/3 [00:00<00:00,  8.27it/s]\n"
     ]
    },
    {
     "name": "stdout",
     "output_type": "stream",
     "text": [
      "Epoch 006 | Train Loss: 6892.6687 | Val Loss: 6863.7107\n"
     ]
    },
    {
     "name": "stderr",
     "output_type": "stream",
     "text": [
      "Train Epoch 7/10: 100%|█████████████████████████████████████████████████████████████████████████████████████████████████████████████████████████████████████| 7/7 [00:01<00:00,  6.59it/s]\n",
      "Valid Epoch 7/10: 100%|█████████████████████████████████████████████████████████████████████████████████████████████████████████████████████████████████████| 3/3 [00:00<00:00,  8.85it/s]\n"
     ]
    },
    {
     "name": "stdout",
     "output_type": "stream",
     "text": [
      "Epoch 007 | Train Loss: 6889.6582 | Val Loss: 6803.3275\n"
     ]
    },
    {
     "name": "stderr",
     "output_type": "stream",
     "text": [
      "Train Epoch 8/10: 100%|█████████████████████████████████████████████████████████████████████████████████████████████████████████████████████████████████████| 7/7 [00:01<00:00,  6.73it/s]\n",
      "Valid Epoch 8/10: 100%|█████████████████████████████████████████████████████████████████████████████████████████████████████████████████████████████████████| 3/3 [00:00<00:00,  9.21it/s]\n"
     ]
    },
    {
     "name": "stdout",
     "output_type": "stream",
     "text": [
      "Epoch 008 | Train Loss: 6735.0776 | Val Loss: 6745.7966\n"
     ]
    },
    {
     "name": "stderr",
     "output_type": "stream",
     "text": [
      "Train Epoch 9/10: 100%|█████████████████████████████████████████████████████████████████████████████████████████████████████████████████████████████████████| 7/7 [00:01<00:00,  6.84it/s]\n",
      "Valid Epoch 9/10: 100%|█████████████████████████████████████████████████████████████████████████████████████████████████████████████████████████████████████| 3/3 [00:00<00:00,  8.64it/s]\n"
     ]
    },
    {
     "name": "stdout",
     "output_type": "stream",
     "text": [
      "Epoch 009 | Train Loss: 6670.7604 | Val Loss: 6489.2790\n"
     ]
    },
    {
     "name": "stderr",
     "output_type": "stream",
     "text": [
      "Train Epoch 10/10: 100%|████████████████████████████████████████████████████████████████████████████████████████████████████████████████████████████████████| 7/7 [00:01<00:00,  6.71it/s]\n",
      "Valid Epoch 10/10: 100%|████████████████████████████████████████████████████████████████████████████████████████████████████████████████████████████████████| 3/3 [00:00<00:00,  8.57it/s]\n"
     ]
    },
    {
     "name": "stdout",
     "output_type": "stream",
     "text": [
      "Epoch 010 | Train Loss: 6323.8899 | Val Loss: 6192.9564\n",
      "# EDF Predict ------------------------------------------------\n"
     ]
    },
    {
     "name": "stderr",
     "output_type": "stream",
     "text": [
      "100%|███████████████████████████████████████████████████████████████████████████████████████████████████████████████████████████████████████████████████████| 1/1 [00:00<00:00, 12.33it/s]"
     ]
    },
    {
     "name": "stdout",
     "output_type": "stream",
     "text": [
      "Shape of pred: (30,)\n",
      "Shape of feat: (30, 192)\n",
      "Shape of prob: (30, 2)\n",
      "Shape of tgt: (30,)\n"
     ]
    },
    {
     "name": "stderr",
     "output_type": "stream",
     "text": [
      "\n"
     ]
    }
   ],
   "source": [
    "save_dir = \"results\"\n",
    "os.makedirs(save_dir, exist_ok=True)\n",
    "\n",
    "model_dir = os.path.join(save_dir, \"model.pt\")\n",
    "loss_dir  = os.path.join(save_dir, \"loss.csv\")\n",
    "\n",
    "\n",
    "model_trainer = trainer.Trainer(Model_mr, class_ratio, num_classes)\n",
    "model_trainer.compile(learning_rate=lr_rate)\n",
    "Tracker = model_trainer.train(  train_sz=train_sz, \n",
    "                                train_ns=train_ns, \n",
    "                                epochs=num_epochs, \n",
    "                                batch_size=batch_size, \n",
    "                                patience=patience,\n",
    "                                tr_val_ratio = tr_val_ratio,\n",
    "                                directory=model_dir, \n",
    "                                loss_dir=loss_dir)\n",
    "\n",
    "test_dataset = Dataset_tensor(test_data,  test_label)\n",
    "test_loader  = DataLoader(test_dataset,  batch_size=batch_size, shuffle=False)\n",
    "\n",
    "pred, feat, prob, tgt = model_trainer.predict(test_loader)\n",
    "\n",
    "\n",
    "print(\"Shape of pred:\", pred.shape)\n",
    "print(\"Shape of feat:\", feat.shape)\n",
    "print(\"Shape of prob:\", prob.shape)\n",
    "print(\"Shape of tgt:\",  tgt.shape)"
   ]
  },
  {
   "cell_type": "code",
   "execution_count": 5,
   "id": "3daa8f4f-9763-43b9-a84c-9af1d5758ae6",
   "metadata": {},
   "outputs": [
    {
     "name": "stdout",
     "output_type": "stream",
     "text": [
      "Accuracy          : 0.6000\n",
      "Precision         : 0.0000\n",
      "Recall            : 0.0000\n",
      "Specificity       : 1.0000\n",
      "F1 Score          : 0.0000\n",
      "Macro F1          : 0.3750\n",
      "ROC-AUC           : 0.5972\n"
     ]
    }
   ],
   "source": [
    "accuracy, precision, recall, specificity, f1, macro_f1, roc_auc = predict2perf(pred, tgt, prob)\n",
    "\n",
    "# Print results\n",
    "print(f\"Accuracy          : {accuracy:.4f}\")\n",
    "print(f\"Precision         : {precision:.4f}\")\n",
    "print(f\"Recall            : {recall:.4f}\")\n",
    "print(f\"Specificity       : {specificity:.4f}\")\n",
    "print(f\"F1 Score          : {f1:.4f}\")\n",
    "print(f\"Macro F1          : {macro_f1:.4f}\")\n",
    "print(f\"ROC-AUC           : {roc_auc:.4f}\")"
   ]
  }
 ],
 "metadata": {
  "kernelspec": {
   "display_name": "Python 3 (ipykernel)",
   "language": "python",
   "name": "python3"
  },
  "language_info": {
   "codemirror_mode": {
    "name": "ipython",
    "version": 3
   },
   "file_extension": ".py",
   "mimetype": "text/x-python",
   "name": "python",
   "nbconvert_exporter": "python",
   "pygments_lexer": "ipython3",
   "version": "3.9.13"
  }
 },
 "nbformat": 4,
 "nbformat_minor": 5
}
