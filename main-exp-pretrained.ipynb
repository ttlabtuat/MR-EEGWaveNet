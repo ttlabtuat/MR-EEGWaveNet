{
 "cells": [
  {
   "cell_type": "code",
   "execution_count": 1,
   "id": "ba17edb9-9d6d-42df-a0cb-659aebb9c8e9",
   "metadata": {},
   "outputs": [],
   "source": [
    "# Standard Library\n",
    "import os\n",
    "import glob\n",
    "import copy\n",
    "import random\n",
    "import argparse\n",
    "\n",
    "# Third-Party Libraries\n",
    "import numpy as np\n",
    "import pandas as pd\n",
    "from tqdm import tqdm\n",
    "\n",
    "# PyTorch\n",
    "import torch\n",
    "from torch.utils.data import Dataset, DataLoader, Subset\n",
    "\n",
    "# Local Modules\n",
    "import architecture\n",
    "# from architecture import Model  # Make sure the class above is saved in mreegwavenet.py\n",
    "import trainer\n",
    "from utils import *"
   ]
  },
  {
   "cell_type": "code",
   "execution_count": 2,
   "id": "dbfbf89e-e3bf-49b4-a7b8-5df7fbb1e5fd",
   "metadata": {},
   "outputs": [],
   "source": [
    "# Data information\n",
    "num_channels = 19   # number of channels\n",
    "num_classes  = 2    # number of classes\n",
    "samp_freq    = 500  # Sampling frequency\n",
    "\n",
    "# Architecture \n",
    "MP           = [10.0, 2.0]     # Multi-resolution list in seconds\n",
    "feat_dim     = 32              # Feature dimension\n",
    "\n",
    "# Training parameters\n",
    "batch_size   = 32              # Number of images in each mini-batch\n",
    "lr_rate      = 1e-03           # Learning-rate\n",
    "patience     = 30              # patience \n",
    "tr_val_ratio = 0.7             # Train and Validation ratio \n",
    "class_ratio  = 2.0             # seizure nonseizure class ratio\n",
    "num_epochs   = 10              # Number of sweeps over the dataset to train\n",
    "\n",
    "\n",
    "num_timepoints = int(MP[0]*samp_freq)"
   ]
  },
  {
   "cell_type": "code",
   "execution_count": 3,
   "id": "6387d0ef-80ed-44dc-94bc-7cafd7aa826e",
   "metadata": {},
   "outputs": [],
   "source": [
    "data_dir = \"test-data\" \n",
    "test_data  = np.load(os.path.join(data_dir, \"test-data.npy\"))\n",
    "test_label = np.load(os.path.join(data_dir, \"test-label.npy\"))\n",
    "\n",
    "test_dataset = Dataset_tensor(test_data,  test_label)\n",
    "test_loader  = DataLoader(test_dataset,  batch_size=batch_size, shuffle=False)\n"
   ]
  },
  {
   "cell_type": "code",
   "execution_count": 4,
   "id": "54b8eeeb-9601-457c-886e-4679d821f342",
   "metadata": {},
   "outputs": [
    {
     "name": "stdout",
     "output_type": "stream",
     "text": [
      "total_feat_len: 192\n"
     ]
    },
    {
     "data": {
      "text/plain": [
       "Model(\n",
       "  (temp_conv1): Conv1d(19, 19, kernel_size=(2,), stride=(2,), groups=19)\n",
       "  (temp_conv2): Conv1d(19, 19, kernel_size=(2,), stride=(2,), groups=19)\n",
       "  (temp_conv3): Conv1d(19, 19, kernel_size=(2,), stride=(2,), groups=19)\n",
       "  (temp_conv4): Conv1d(19, 19, kernel_size=(2,), stride=(2,), groups=19)\n",
       "  (temp_conv5): Conv1d(19, 19, kernel_size=(2,), stride=(2,), groups=19)\n",
       "  (temp_conv6): Conv1d(19, 19, kernel_size=(2,), stride=(2,), groups=19)\n",
       "  (chpool1): Sequential(\n",
       "    (0): Conv1d(19, 32, kernel_size=(4,), stride=(1,))\n",
       "    (1): BatchNorm1d(32, eps=1e-05, momentum=0.1, affine=True, track_running_stats=True)\n",
       "    (2): LeakyReLU(negative_slope=0.01)\n",
       "    (3): Conv1d(32, 32, kernel_size=(4,), stride=(1,))\n",
       "    (4): BatchNorm1d(32, eps=1e-05, momentum=0.1, affine=True, track_running_stats=True)\n",
       "    (5): LeakyReLU(negative_slope=0.01)\n",
       "  )\n",
       "  (chpool2): Sequential(\n",
       "    (0): Conv1d(19, 32, kernel_size=(4,), stride=(1,))\n",
       "    (1): BatchNorm1d(32, eps=1e-05, momentum=0.1, affine=True, track_running_stats=True)\n",
       "    (2): LeakyReLU(negative_slope=0.01)\n",
       "    (3): Conv1d(32, 32, kernel_size=(4,), stride=(1,))\n",
       "    (4): BatchNorm1d(32, eps=1e-05, momentum=0.1, affine=True, track_running_stats=True)\n",
       "    (5): LeakyReLU(negative_slope=0.01)\n",
       "  )\n",
       "  (chpool3): Sequential(\n",
       "    (0): Conv1d(19, 32, kernel_size=(4,), stride=(1,))\n",
       "    (1): BatchNorm1d(32, eps=1e-05, momentum=0.1, affine=True, track_running_stats=True)\n",
       "    (2): LeakyReLU(negative_slope=0.01)\n",
       "    (3): Conv1d(32, 32, kernel_size=(4,), stride=(1,))\n",
       "    (4): BatchNorm1d(32, eps=1e-05, momentum=0.1, affine=True, track_running_stats=True)\n",
       "    (5): LeakyReLU(negative_slope=0.01)\n",
       "  )\n",
       "  (chpool4): Sequential(\n",
       "    (0): Conv1d(19, 32, kernel_size=(4,), stride=(1,))\n",
       "    (1): BatchNorm1d(32, eps=1e-05, momentum=0.1, affine=True, track_running_stats=True)\n",
       "    (2): LeakyReLU(negative_slope=0.01)\n",
       "    (3): Conv1d(32, 32, kernel_size=(4,), stride=(1,))\n",
       "    (4): BatchNorm1d(32, eps=1e-05, momentum=0.1, affine=True, track_running_stats=True)\n",
       "    (5): LeakyReLU(negative_slope=0.01)\n",
       "  )\n",
       "  (chpool5): Sequential(\n",
       "    (0): Conv1d(19, 32, kernel_size=(4,), stride=(1,))\n",
       "    (1): BatchNorm1d(32, eps=1e-05, momentum=0.1, affine=True, track_running_stats=True)\n",
       "    (2): LeakyReLU(negative_slope=0.01)\n",
       "    (3): Conv1d(32, 32, kernel_size=(4,), stride=(1,))\n",
       "    (4): BatchNorm1d(32, eps=1e-05, momentum=0.1, affine=True, track_running_stats=True)\n",
       "    (5): LeakyReLU(negative_slope=0.01)\n",
       "  )\n",
       "  (cal_feature): Sequential(\n",
       "    (0): Linear(in_features=160, out_features=64, bias=True)\n",
       "    (1): LeakyReLU(negative_slope=0.01)\n",
       "    (2): Linear(in_features=64, out_features=32, bias=True)\n",
       "  )\n",
       "  (classifier): Sequential(\n",
       "    (0): Linear(in_features=192, out_features=64, bias=True)\n",
       "    (1): LeakyReLU(negative_slope=0.01)\n",
       "    (2): Linear(in_features=64, out_features=32, bias=True)\n",
       "    (3): Sigmoid()\n",
       "    (4): Linear(in_features=32, out_features=2, bias=True)\n",
       "  )\n",
       ")"
      ]
     },
     "execution_count": 4,
     "metadata": {},
     "output_type": "execute_result"
    }
   ],
   "source": [
    "# Definition of Model\n",
    "total_feat_len = int(np.sum([feat_dim * (MP[0] // s) for s in MP]))\n",
    "print(f\"total_feat_len: {total_feat_len}\")\n",
    "\n",
    "Model_mr = architecture.Model( n_chans=num_channels, \n",
    "                               n_classes=num_classes, \n",
    "                               feature_dim=feat_dim, \n",
    "                               Fs=samp_freq, \n",
    "                               SEC=MP,\n",
    "                               tot_feat_len=total_feat_len).float()\n",
    "\n",
    "# load pretrained model\n",
    "model_path = \"pre-trained-model/model_example.pt\"\n",
    "Model_mr.load_state_dict(torch.load(model_path, map_location=torch.device('cpu')))\n",
    "Model_mr.eval()  # Set to evaluation mode"
   ]
  },
  {
   "cell_type": "code",
   "execution_count": 5,
   "id": "a6c84754-95f6-4c29-93c7-f7395f7383bc",
   "metadata": {},
   "outputs": [
    {
     "name": "stderr",
     "output_type": "stream",
     "text": [
      "100%|███████████████████████████████████████████████████████████████████████████████████████████████████████████████████████████████████████████████████| 146/146 [00:03<00:00, 44.77it/s]\n"
     ]
    },
    {
     "name": "stdout",
     "output_type": "stream",
     "text": [
      "Shape of pred: (4663,)\n",
      "Shape of feat: (4663, 192)\n",
      "Shape of prob: (4663, 2)\n",
      "Shape of tgt: (4663,)\n"
     ]
    }
   ],
   "source": [
    "save_dir = \"results-pretrained\"\n",
    "os.makedirs(save_dir, exist_ok=True)\n",
    "\n",
    "PRED, FEAT, PROB, TARGET = [], [], [], []\n",
    "\n",
    "device = torch.device(\"cuda\" if torch.cuda.is_available() else \"cpu\")\n",
    "Model_mr.to(device)\n",
    "\n",
    "with torch.no_grad():\n",
    "    for data, target in tqdm(test_loader):\n",
    "            data = data.float().cuda() if torch.cuda.is_available() else data.float()\n",
    "            target = target.cuda() if torch.cuda.is_available() else target\n",
    "    \n",
    "            pred, feat, prob = Model_mr(data)\n",
    "            pred = torch.argmax(pred, dim=1).cpu().numpy()\n",
    "    \n",
    "            PRED.extend(pred)\n",
    "            FEAT.append(feat.cpu())\n",
    "            PROB.append(prob.cpu())\n",
    "            TARGET.append(target.cpu())\n",
    "        \n",
    "PRED   = np.hstack(PRED)\n",
    "FEAT   = np.vstack(FEAT)\n",
    "PROB   = np.vstack(PROB)\n",
    "TARGET = np.hstack(TARGET)     \n",
    "\n",
    "print(\"Shape of pred:\", PRED.shape)\n",
    "print(\"Shape of feat:\", FEAT.shape)\n",
    "print(\"Shape of prob:\", PROB.shape)\n",
    "print(\"Shape of tgt:\",  TARGET.shape)\n",
    "\n",
    "np.save(os.path.join(save_dir, 'pred.npy'), PRED)\n",
    "np.save(os.path.join(save_dir, 'feat.npy'), FEAT)\n",
    "np.save(os.path.join(save_dir, 'prob.npy'), PROB)\n",
    "np.save(os.path.join(save_dir, 'tgt.npy'), TARGET)"
   ]
  },
  {
   "cell_type": "code",
   "execution_count": 6,
   "id": "3daa8f4f-9763-43b9-a84c-9af1d5758ae6",
   "metadata": {},
   "outputs": [
    {
     "name": "stdout",
     "output_type": "stream",
     "text": [
      "Accuracy          : 0.9292\n",
      "Precision         : 0.0239\n",
      "Recall            : 0.7273\n",
      "Specificity       : 0.9297\n",
      "F1 Score          : 0.0462\n",
      "Macro F1          : 0.5047\n",
      "ROC-AUC           : 0.9266\n"
     ]
    }
   ],
   "source": [
    "accuracy, precision, recall, specificity, f1, macro_f1, roc_auc = predict2perf(PRED, TARGET, PROB)\n",
    "\n",
    "# Print results\n",
    "print(f\"Accuracy          : {accuracy:.4f}\")\n",
    "print(f\"Precision         : {precision:.4f}\")\n",
    "print(f\"Recall            : {recall:.4f}\")\n",
    "print(f\"Specificity       : {specificity:.4f}\")\n",
    "print(f\"F1 Score          : {f1:.4f}\")\n",
    "print(f\"Macro F1          : {macro_f1:.4f}\")\n",
    "print(f\"ROC-AUC           : {roc_auc:.4f}\")"
   ]
  }
 ],
 "metadata": {
  "kernelspec": {
   "display_name": "Python 3 (ipykernel)",
   "language": "python",
   "name": "python3"
  },
  "language_info": {
   "codemirror_mode": {
    "name": "ipython",
    "version": 3
   },
   "file_extension": ".py",
   "mimetype": "text/x-python",
   "name": "python",
   "nbconvert_exporter": "python",
   "pygments_lexer": "ipython3",
   "version": "3.9.13"
  }
 },
 "nbformat": 4,
 "nbformat_minor": 5
}
